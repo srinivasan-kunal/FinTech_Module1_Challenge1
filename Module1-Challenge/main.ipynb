{
 "cells": [
  {
   "cell_type": "code",
   "execution_count": null,
   "metadata": {},
   "outputs": [],
   "source": [
    "def main():\n",
    "    print(\"Hey there! My name is is Kunal\")\n",
    "\n",
    "main()"
   ]
  }
 ],
 "metadata": {
  "kernelspec": {
   "display_name": "Python 3.11.0 64-bit",
   "language": "python",
   "name": "python3"
  },
  "language_info": {
   "name": "python",
   "version": "3.11.0"
  },
  "orig_nbformat": 4,
  "vscode": {
   "interpreter": {
    "hash": "32fa45d856a2a5ae20cdbfc1d0b373f401e8c6b5cfcf7f044755b7555ec802ce"
   }
  }
 },
 "nbformat": 4,
 "nbformat_minor": 2
}

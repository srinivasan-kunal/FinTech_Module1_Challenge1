{
 "cells": [
  {
   "cell_type": "code",
   "execution_count": 2,
   "metadata": {},
   "outputs": [
    {
     "name": "stdout",
     "output_type": "stream",
     "text": [
      "Total number of loans is: 5\n",
      "Total value of the loans: $2750.00\n",
      "Average amount of each loan: $550.00\n"
     ]
    }
   ],
   "source": [
    "# coding: utf-8\n",
    "import csv\n",
    "from pathlib import Path\n",
    "\n",
    "\"\"\"Part 1: Automate the Calculations.\n",
    "\n",
    "Automate the calculations for the loan portfolio summaries.\n",
    "\n",
    "Performing calculations on a list of prices for 5 loans.\n",
    "    1. Use the `len` function to calculate the total number of loans in the list.\n",
    "    2. Use the `sum` function to calculate the total of all loans in the list.\n",
    "    3. Using the sum of all loans and the total number of loans, calculate the average loan price.\n",
    "    4. Print all calculations with descriptive messages.\n",
    "\"\"\"\n",
    "loan_costs = [500, 600, 200, 1000, 450]\n",
    "\n",
    "# How many loans are in the list?\n",
    "# Print the number of loans from the list\n",
    "total_number_loan=len(loan_costs)\n",
    "\n",
    "print(f\"Total number of loans is: {total_number_loan}\")\n",
    "\n",
    "# What is the total of all loans?\n",
    "# Print the total value of the loans\n",
    "total_amount_loan=sum(loan_costs)\n",
    "\n",
    "print(f\"Total value of the loans: ${total_amount_loan:.2f}\")\n",
    "\n",
    "# What is the average loan amount from the list?\n",
    "# Print the average loan amount\n",
    "average_loan_amount=total_amount_loan/total_number_loan\n",
    "\n",
    "print(f\"Average amount of each loan: ${average_loan_amount:.2f}\")"
   ]
  },
  {
   "cell_type": "code",
   "execution_count": 3,
   "metadata": {},
   "outputs": [
    {
     "name": "stdout",
     "output_type": "stream",
     "text": [
      "Future value of the loan is $1000 and there are 9 months remaining on the loan \n",
      "A fair value of the loan is $861.77 assuming an annual discount rate of 20.0%\n",
      "At the current fair value of $861.77 the loan is worth at least the cost to buy it.\n"
     ]
    }
   ],
   "source": [
    "\"\"\"Part 2: Analyze Loan Data.\"\"\"\n",
    "\n",
    "\"\"\"Analyze the loan to determine the investment evaluation.\n",
    "\n",
    "Using more detailed data on one of these loans, steps below calculate a Present Value, or a \"fair price\" for what this loan would be worth.\n",
    "\"\"\"\n",
    "\n",
    "# Storing the assumed minimum rate of return\n",
    "annual_discount_rate=0.20\n",
    "\n",
    "# Given loan data for the calculation of the present value for the loan\n",
    "loan = {\n",
    "    \"loan_price\": 500,\n",
    "    \"remaining_months\": 9,\n",
    "    \"repayment_interval\": \"bullet\",\n",
    "    \"future_value\": 1000,\n",
    "}\n",
    "\n",
    "# Extracting the Future Value and Remaining Months on the loan from the dictionary.\n",
    "future_value=loan.get(\"future_value\")\n",
    "remaining_months=loan.get(\"remaining_months\")\n",
    "print(f\"Future value of the loan is ${future_value} and there are {remaining_months} months remaining on the loan \")\n",
    "\n",
    "# Fair value calculation based on prsent value formula\n",
    "fair_value=future_value/(1+(annual_discount_rate/12))**remaining_months\n",
    "print(f\"A fair value of the loan is ${fair_value:.2f} assuming an annual discount rate of {annual_discount_rate*100:.1f}%\")\n",
    "\n",
    "# Comparing the present value to the cost of buying the loan \n",
    "if fair_value>=loan.get(\"loan_price\"):\n",
    "    print(f\"At the current fair value of ${fair_value:.2f} the loan is worth at least the cost to buy it.\")\n",
    "else:\n",
    "    print(f\"At the current price the loan is too expensive and not worth the price.\")"
   ]
  },
  {
   "cell_type": "code",
   "execution_count": 4,
   "metadata": {},
   "outputs": [
    {
     "name": "stdout",
     "output_type": "stream",
     "text": [
      "The present value of the loan is: 820.0814425978174\n"
     ]
    }
   ],
   "source": [
    "\"\"\"Part 3: Performing Financial Calculations.\n",
    "\"\"\"\n",
    "\n",
    "# Given loan data for calculation of the present value for the loan\n",
    "new_loan = {\n",
    "    \"loan_price\": 800,\n",
    "    \"remaining_months\": 12,\n",
    "    \"repayment_interval\": \"bullet\",\n",
    "    \"future_value\": 1000,\n",
    "}\n",
    "\n",
    "# Defined a present_value calculator function \n",
    "def present_value_cal(future_value,remaining_months,annual_discount_rate):\n",
    "    present_value=future_value/(1+(annual_discount_rate/12))**remaining_months\n",
    "    return present_value\n",
    "\n",
    "# Calling the present_value_calculator function for the given loan data with an assumed annual discount rate of 0.2\n",
    "present_value=present_value_cal(new_loan.get(\"future_value\"),new_loan.get(\"remaining_months\"),0.2)\n",
    "\n",
    "print(f\"The present value of the loan is: {present_value}\")"
   ]
  },
  {
   "cell_type": "code",
   "execution_count": 5,
   "metadata": {},
   "outputs": [
    {
     "name": "stdout",
     "output_type": "stream",
     "text": [
      "[{'loan_price': 500, 'remaining_months': 13, 'repayment_interval': 'bullet', 'future_value': 1000}, {'loan_price': 200, 'remaining_months': 16, 'repayment_interval': 'bullet', 'future_value': 1000}]\n"
     ]
    }
   ],
   "source": [
    "\"\"\"Part 4: Conditionally filter lists of loans.\n",
    "\"\"\"\n",
    "loans = [\n",
    "    {\n",
    "        \"loan_price\": 700,\n",
    "        \"remaining_months\": 9,\n",
    "        \"repayment_interval\": \"monthly\",\n",
    "        \"future_value\": 1000,\n",
    "    },\n",
    "    {\n",
    "        \"loan_price\": 500,\n",
    "        \"remaining_months\": 13,\n",
    "        \"repayment_interval\": \"bullet\",\n",
    "        \"future_value\": 1000,\n",
    "    },\n",
    "    {\n",
    "        \"loan_price\": 200,\n",
    "        \"remaining_months\": 16,\n",
    "        \"repayment_interval\": \"bullet\",\n",
    "        \"future_value\": 1000,\n",
    "    },\n",
    "    {\n",
    "        \"loan_price\": 900,\n",
    "        \"remaining_months\": 16,\n",
    "        \"repayment_interval\": \"bullet\",\n",
    "        \"future_value\": 1000,\n",
    "    },\n",
    "]\n",
    "\n",
    "# Defined an empty list called `inexpensive_loans`\n",
    "inexpensive_loans=[]\n",
    "\n",
    "#  Loop through all the loans and append any that cost $500 or less to the `inexpensive_loans` list\n",
    "for individual in loans:\n",
    "    if individual.get(\"loan_price\")<=500:\n",
    "        inexpensive_loans.append(individual)\n",
    "\n",
    "print (inexpensive_loans)"
   ]
  },
  {
   "cell_type": "code",
   "execution_count": 6,
   "metadata": {},
   "outputs": [],
   "source": [
    "\"\"\"Part 5: Saving the results.\n",
    "\n",
    "\"\"\"\n",
    "\n",
    "# Set the output header\n",
    "header = [\"loan_price\", \"remaining_months\", \"repayment_interval\", \"future_value\"]\n",
    "\n",
    "# Set the output file path\n",
    "output_path = Path(\"inexpensive_loans.csv\")\n",
    "\n",
    "# Pulling the `csv.writer` from csv library to write the header row\n",
    "# and each row of `loan.values()` from the `inexpensive_loans` list.\n",
    "with open(output_path,'w',newline='') as csvfile:\n",
    "    csvwriter=csv.writer(csvfile)\n",
    "    csvwriter.writerow(header)\n",
    "    for rows in inexpensive_loans:\n",
    "        csvwriter.writerow(rows.values())"
   ]
  }
 ],
 "metadata": {
  "kernelspec": {
   "display_name": "Python 3.11.0 64-bit",
   "language": "python",
   "name": "python3"
  },
  "language_info": {
   "codemirror_mode": {
    "name": "ipython",
    "version": 3
   },
   "file_extension": ".py",
   "mimetype": "text/x-python",
   "name": "python",
   "nbconvert_exporter": "python",
   "pygments_lexer": "ipython3",
   "version": "3.11.0"
  },
  "orig_nbformat": 4,
  "vscode": {
   "interpreter": {
    "hash": "32fa45d856a2a5ae20cdbfc1d0b373f401e8c6b5cfcf7f044755b7555ec802ce"
   }
  }
 },
 "nbformat": 4,
 "nbformat_minor": 2
}
